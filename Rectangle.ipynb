The code file of Rectangle using OOPs which include constructor and methods
